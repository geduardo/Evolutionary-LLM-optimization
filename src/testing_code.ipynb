{
 "cells": [
  {
   "cell_type": "code",
   "execution_count": 1,
   "metadata": {},
   "outputs": [],
   "source": [
    "from solution_generator import *\n",
    "from problem_evaluator import *\n",
    "from problem_parser import *\n",
    "\n",
    "generator = SolutionGenerator(problem_id=2, agents=[(\"anthropic\", \"claude-3-5-sonnet-20240620\"), (\"openai\", \"gpt-4o\")])\n",
    "\n",
    "solutions = generator.generate_solutions()"
   ]
  },
  {
   "cell_type": "code",
   "execution_count": 4,
   "metadata": {},
   "outputs": [
    {
     "data": {
      "text/plain": [
       "[{'imports': [],\n",
       "  'code': 'def solution(arr):\\n    def quicksort(left, right):\\n        if left < right:\\n            pivot = partition(left, right)\\n            quicksort(left, pivot - 1)\\n            quicksort(pivot + 1, right)\\n\\n    def partition(left, right):\\n        pivot = arr[right]\\n        i = left - 1\\n        for j in range(left, right):\\n            if arr[j] <= pivot:\\n                i += 1\\n                arr[i], arr[j] = arr[j], arr[i]\\n        arr[i + 1], arr[right] = arr[right], arr[i + 1]\\n        return i + 1\\n\\n    quicksort(0, len(arr) - 1)\\n    return arr',\n",
       "  'explanation': 'This solution implements the QuickSort algorithm, which has an average time complexity of O(n log n). QuickSort is chosen for its efficiency and in-place sorting capability, making it suitable for large arrays. The algorithm uses a divide-and-conquer approach, partitioning the array around a pivot element and recursively sorting the sub-arrays. This implementation uses the last element as the pivot and includes an in-place partitioning scheme to minimize memory usage. The solution is optimized for runtime performance and can handle large-scale sorting efficiently within the given constraints.'},\n",
       " {'imports': [],\n",
       "  'code': 'def solution(arr):\\n    arr.sort()\\n    return arr',\n",
       "  'explanation': 'The solution leverages Python’s built-in sort method, which uses Timsort. Timsort is an adaptive, stable, and efficient sorting algorithm derived from merge sort and insertion sort, and is optimal for many real-world data sets. It has an average and worst-case time complexity of O(n log n), making it well-suited for sorting the given array size within the time constraints.'}]"
      ]
     },
     "execution_count": 4,
     "metadata": {},
     "output_type": "execute_result"
    }
   ],
   "source": [
    "solutions"
   ]
  },
  {
   "cell_type": "code",
   "execution_count": 5,
   "metadata": {},
   "outputs": [
    {
     "name": "stdout",
     "output_type": "stream",
     "text": [
      "Input array: [5, 2, 9, 1, 7]\n",
      "Sorted array: [1, 2, 5, 7, 9]\n",
      "Input array: [5, 2, 9, 1, 7]\n",
      "Sorted array: [1, 2, 5, 7, 9]\n"
     ]
    }
   ],
   "source": [
    "def execute_solutions(solutions):\n",
    "    for solution in solutions:\n",
    "        imports = solution['imports']\n",
    "        code = solution['code']\n",
    "        \n",
    "        # Execute the imports\n",
    "        for import_statement in imports:\n",
    "            exec(import_statement)\n",
    "        \n",
    "        # Define the solution function\n",
    "        exec(code, globals())\n",
    "        \n",
    "        # Get the defined solution function\n",
    "        solution_func = globals()['solution']\n",
    "        \n",
    "        # Test the solution function\n",
    "        arr = [5, 2, 9, 1, 7]\n",
    "        print(f\"Input array: {arr}\")\n",
    "        sorted_arr = solution_func(arr)\n",
    "        print(f\"Sorted array: {sorted_arr}\")\n",
    "\n",
    "# Execute the solutions\n",
    "execute_solutions(solutions)\n"
   ]
  },
  {
   "cell_type": "code",
   "execution_count": 3,
   "metadata": {},
   "outputs": [
    {
     "ename": "TypeError",
     "evalue": "'NoneType' object is not subscriptable",
     "output_type": "error",
     "traceback": [
      "\u001b[1;31m---------------------------------------------------------------------------\u001b[0m",
      "\u001b[1;31mTypeError\u001b[0m                                 Traceback (most recent call last)",
      "Cell \u001b[1;32mIn[3], line 11\u001b[0m\n\u001b[0;32m      8\u001b[0m sg \u001b[38;5;241m=\u001b[39m SolutionGenerator(problem_id, agents)\n\u001b[0;32m     10\u001b[0m \u001b[38;5;66;03m# Generate solutions using the agents\u001b[39;00m\n\u001b[1;32m---> 11\u001b[0m solutions \u001b[38;5;241m=\u001b[39m \u001b[43msg\u001b[49m\u001b[38;5;241;43m.\u001b[39;49m\u001b[43mgenerate_solutions\u001b[49m\u001b[43m(\u001b[49m\u001b[43m)\u001b[49m\n\u001b[0;32m     13\u001b[0m \u001b[38;5;28mprint\u001b[39m(\u001b[38;5;124m\"\u001b[39m\u001b[38;5;124mGenerated Solutions:\u001b[39m\u001b[38;5;124m\"\u001b[39m)\n\u001b[0;32m     14\u001b[0m \u001b[38;5;28;01mfor\u001b[39;00m i, solution \u001b[38;5;129;01min\u001b[39;00m \u001b[38;5;28menumerate\u001b[39m(solutions):\n",
      "File \u001b[1;32mc:\\Users\\GonzalezSanchezEduar\\OneDrive - inspire AG\\Desktop\\Evolutionary-LLM-optimization\\src\\solution_generator.py:19\u001b[0m, in \u001b[0;36mSolutionGenerator.generate_solutions\u001b[1;34m(self, iteration)\u001b[0m\n\u001b[0;32m     17\u001b[0m solutions \u001b[38;5;241m=\u001b[39m []\n\u001b[0;32m     18\u001b[0m \u001b[38;5;28;01mfor\u001b[39;00m provider, model \u001b[38;5;129;01min\u001b[39;00m \u001b[38;5;28mself\u001b[39m\u001b[38;5;241m.\u001b[39magents:\n\u001b[1;32m---> 19\u001b[0m     solution \u001b[38;5;241m=\u001b[39m \u001b[38;5;28;43mself\u001b[39;49m\u001b[38;5;241;43m.\u001b[39;49m\u001b[43m_generate_solution\u001b[49m\u001b[43m(\u001b[49m\u001b[43mprovider\u001b[49m\u001b[43m,\u001b[49m\u001b[43m \u001b[49m\u001b[43mmodel\u001b[49m\u001b[43m,\u001b[49m\u001b[43m \u001b[49m\u001b[43miteration\u001b[49m\u001b[43m)\u001b[49m\n\u001b[0;32m     20\u001b[0m     solutions\u001b[38;5;241m.\u001b[39mappend(solution)\n\u001b[0;32m     21\u001b[0m \u001b[38;5;28;01mreturn\u001b[39;00m solutions\n",
      "File \u001b[1;32mc:\\Users\\GonzalezSanchezEduar\\OneDrive - inspire AG\\Desktop\\Evolutionary-LLM-optimization\\src\\solution_generator.py:24\u001b[0m, in \u001b[0;36mSolutionGenerator._generate_solution\u001b[1;34m(self, provider, model, iteration)\u001b[0m\n\u001b[0;32m     23\u001b[0m \u001b[38;5;28;01mdef\u001b[39;00m \u001b[38;5;21m_generate_solution\u001b[39m(\u001b[38;5;28mself\u001b[39m, provider: \u001b[38;5;28mstr\u001b[39m, model: \u001b[38;5;28mstr\u001b[39m, iteration: \u001b[38;5;28mint\u001b[39m) \u001b[38;5;241m-\u001b[39m\u001b[38;5;241m>\u001b[39m \u001b[38;5;28mstr\u001b[39m:\n\u001b[1;32m---> 24\u001b[0m     prompt \u001b[38;5;241m=\u001b[39m \u001b[38;5;28;43mself\u001b[39;49m\u001b[38;5;241;43m.\u001b[39;49m\u001b[43m_create_prompt\u001b[49m\u001b[43m(\u001b[49m\u001b[43miteration\u001b[49m\u001b[43m)\u001b[49m\n\u001b[0;32m     25\u001b[0m     \u001b[38;5;28;01mif\u001b[39;00m provider \u001b[38;5;241m==\u001b[39m \u001b[38;5;124m'\u001b[39m\u001b[38;5;124mopenai\u001b[39m\u001b[38;5;124m'\u001b[39m:\n\u001b[0;32m     26\u001b[0m         response \u001b[38;5;241m=\u001b[39m generate_response_openai(model, \u001b[38;5;241m1000\u001b[39m, prompt)\n",
      "File \u001b[1;32mc:\\Users\\GonzalezSanchezEduar\\OneDrive - inspire AG\\Desktop\\Evolutionary-LLM-optimization\\src\\solution_generator.py:36\u001b[0m, in \u001b[0;36mSolutionGenerator._create_prompt\u001b[1;34m(self, iteration)\u001b[0m\n\u001b[0;32m     34\u001b[0m \u001b[38;5;28;01mdef\u001b[39;00m \u001b[38;5;21m_create_prompt\u001b[39m(\u001b[38;5;28mself\u001b[39m, iteration: \u001b[38;5;28mint\u001b[39m) \u001b[38;5;241m-\u001b[39m\u001b[38;5;241m>\u001b[39m \u001b[38;5;28mstr\u001b[39m:\n\u001b[0;32m     35\u001b[0m     base_prompt \u001b[38;5;241m=\u001b[39m \u001b[38;5;124mf\u001b[39m\u001b[38;5;124m\"\"\"\u001b[39m\n\u001b[1;32m---> 36\u001b[0m \u001b[38;5;124m    Problem: \u001b[39m\u001b[38;5;132;01m{\u001b[39;00m\u001b[38;5;28;43mself\u001b[39;49m\u001b[38;5;241;43m.\u001b[39;49m\u001b[43mproblem\u001b[49m\u001b[43m[\u001b[49m\u001b[38;5;124;43m'\u001b[39;49m\u001b[38;5;124;43mname\u001b[39;49m\u001b[38;5;124;43m'\u001b[39;49m\u001b[43m]\u001b[49m\u001b[38;5;132;01m}\u001b[39;00m\n\u001b[0;32m     37\u001b[0m \u001b[38;5;124m    Description: \u001b[39m\u001b[38;5;132;01m{\u001b[39;00m\u001b[38;5;28mself\u001b[39m\u001b[38;5;241m.\u001b[39mproblem[\u001b[38;5;124m'\u001b[39m\u001b[38;5;124mdescription\u001b[39m\u001b[38;5;124m'\u001b[39m]\u001b[38;5;132;01m}\u001b[39;00m\n\u001b[0;32m     38\u001b[0m \u001b[38;5;124m    Input format: \u001b[39m\u001b[38;5;132;01m{\u001b[39;00m\u001b[38;5;28mself\u001b[39m\u001b[38;5;241m.\u001b[39mproblem[\u001b[38;5;124m'\u001b[39m\u001b[38;5;124minput_format\u001b[39m\u001b[38;5;124m'\u001b[39m]\u001b[38;5;132;01m}\u001b[39;00m\n\u001b[0;32m     39\u001b[0m \u001b[38;5;124m    Output format: \u001b[39m\u001b[38;5;132;01m{\u001b[39;00m\u001b[38;5;28mself\u001b[39m\u001b[38;5;241m.\u001b[39mproblem[\u001b[38;5;124m'\u001b[39m\u001b[38;5;124moutput_format\u001b[39m\u001b[38;5;124m'\u001b[39m]\u001b[38;5;132;01m}\u001b[39;00m\n\u001b[0;32m     40\u001b[0m \u001b[38;5;124m    Constraints: \u001b[39m\u001b[38;5;132;01m{\u001b[39;00m\u001b[38;5;124m'\u001b[39m\u001b[38;5;124m, \u001b[39m\u001b[38;5;124m'\u001b[39m\u001b[38;5;241m.\u001b[39mjoin(\u001b[38;5;28mself\u001b[39m\u001b[38;5;241m.\u001b[39mproblem[\u001b[38;5;124m'\u001b[39m\u001b[38;5;124mconstraints\u001b[39m\u001b[38;5;124m'\u001b[39m])\u001b[38;5;132;01m}\u001b[39;00m\n\u001b[0;32m     41\u001b[0m \u001b[38;5;124m    Evaluation criteria: \u001b[39m\u001b[38;5;132;01m{\u001b[39;00m\u001b[38;5;124m'\u001b[39m\u001b[38;5;124m, \u001b[39m\u001b[38;5;124m'\u001b[39m\u001b[38;5;241m.\u001b[39mjoin(\u001b[38;5;28mself\u001b[39m\u001b[38;5;241m.\u001b[39mproblem[\u001b[38;5;124m'\u001b[39m\u001b[38;5;124mevaluation_criteria\u001b[39m\u001b[38;5;124m'\u001b[39m])\u001b[38;5;132;01m}\u001b[39;00m\n\u001b[0;32m     42\u001b[0m \u001b[38;5;124m    Time limit: \u001b[39m\u001b[38;5;132;01m{\u001b[39;00m\u001b[38;5;28mself\u001b[39m\u001b[38;5;241m.\u001b[39mproblem[\u001b[38;5;124m'\u001b[39m\u001b[38;5;124mtime_limit\u001b[39m\u001b[38;5;124m'\u001b[39m]\u001b[38;5;132;01m}\u001b[39;00m\u001b[38;5;124m seconds\u001b[39m\n\u001b[0;32m     43\u001b[0m \u001b[38;5;124m    \u001b[39m\n\u001b[0;32m     44\u001b[0m \u001b[38;5;124m    Please provide a Python function named \u001b[39m\u001b[38;5;124m'\u001b[39m\u001b[38;5;124msolution\u001b[39m\u001b[38;5;124m'\u001b[39m\u001b[38;5;124m that solves this problem efficiently.\u001b[39m\n\u001b[0;32m     45\u001b[0m \u001b[38;5;124m    Your solution should be optimized for \u001b[39m\u001b[38;5;132;01m{\u001b[39;00m\u001b[38;5;28mself\u001b[39m\u001b[38;5;241m.\u001b[39mproblem[\u001b[38;5;124m'\u001b[39m\u001b[38;5;124mevaluation_type\u001b[39m\u001b[38;5;124m'\u001b[39m]\u001b[38;5;132;01m}\u001b[39;00m\u001b[38;5;124m.\u001b[39m\n\u001b[0;32m     46\u001b[0m \u001b[38;5;124m    \u001b[39m\n\u001b[0;32m     47\u001b[0m \u001b[38;5;124m    Format your response as a JSON object with the following structure:\u001b[39m\n\u001b[0;32m     48\u001b[0m \u001b[38;5;124m    \u001b[39m\u001b[38;5;130;01m{{\u001b[39;00m\n\u001b[0;32m     49\u001b[0m \u001b[38;5;124m        \u001b[39m\u001b[38;5;124m\"\u001b[39m\u001b[38;5;124mimports\u001b[39m\u001b[38;5;124m\"\u001b[39m\u001b[38;5;124m: [\u001b[39m\u001b[38;5;124m\"\u001b[39m\u001b[38;5;124mList of import statements used by the solution\u001b[39m\u001b[38;5;124m\"\u001b[39m\u001b[38;5;124m],\u001b[39m\n\u001b[0;32m     50\u001b[0m \u001b[38;5;124m        \u001b[39m\u001b[38;5;124m\"\u001b[39m\u001b[38;5;124mcode\u001b[39m\u001b[38;5;124m\"\u001b[39m\u001b[38;5;124m: \u001b[39m\u001b[38;5;124m\"\u001b[39m\u001b[38;5;124mYour Python function code here, with the main function named \u001b[39m\u001b[38;5;124m'\u001b[39m\u001b[38;5;124msolution\u001b[39m\u001b[38;5;124m'\u001b[39m\u001b[38;5;124m\"\u001b[39m\u001b[38;5;124m,\u001b[39m\n\u001b[0;32m     51\u001b[0m \u001b[38;5;124m        \u001b[39m\u001b[38;5;124m\"\u001b[39m\u001b[38;5;124mexplanation\u001b[39m\u001b[38;5;124m\"\u001b[39m\u001b[38;5;124m: \u001b[39m\u001b[38;5;124m\"\u001b[39m\u001b[38;5;124mA brief explanation of the methods used\u001b[39m\u001b[38;5;124m\"\u001b[39m\u001b[38;5;124m,\u001b[39m\n\u001b[0;32m     52\u001b[0m \u001b[38;5;124m    \u001b[39m\u001b[38;5;130;01m}}\u001b[39;00m\n\u001b[0;32m     53\u001b[0m \u001b[38;5;124m    \u001b[39m\n\u001b[0;32m     54\u001b[0m \u001b[38;5;124m    Ensure that the \u001b[39m\u001b[38;5;124m\"\u001b[39m\u001b[38;5;124mcode\u001b[39m\u001b[38;5;124m\"\u001b[39m\u001b[38;5;124m field contains only the function definition, without any imports or additional code.\u001b[39m\n\u001b[0;32m     55\u001b[0m \u001b[38;5;124m    \u001b[39m\n\u001b[0;32m     56\u001b[0m \u001b[38;5;124mThe function must be named \u001b[39m\u001b[38;5;124m'\u001b[39m\u001b[38;5;124msolution\u001b[39m\u001b[38;5;124m'\u001b[39m\u001b[38;5;124m.\u001b[39m\n\u001b[0;32m     57\u001b[0m \u001b[38;5;124m    The \u001b[39m\u001b[38;5;124m\"\u001b[39m\u001b[38;5;124mexplanation\u001b[39m\u001b[38;5;124m\"\u001b[39m\u001b[38;5;124m should be a concise summary of the approach and key algorithms used in your solution.\u001b[39m\n\u001b[0;32m     58\u001b[0m \u001b[38;5;124m    The \u001b[39m\u001b[38;5;124m\"\u001b[39m\u001b[38;5;124mimports\u001b[39m\u001b[38;5;124m\"\u001b[39m\u001b[38;5;124m field should be a list of strings, each representing an import statement required by your solution.\u001b[39m\n\u001b[0;32m     59\u001b[0m \u001b[38;5;124m    \u001b[39m\u001b[38;5;124m\"\"\"\u001b[39m\n\u001b[0;32m     61\u001b[0m     \u001b[38;5;28;01mif\u001b[39;00m iteration \u001b[38;5;241m==\u001b[39m \u001b[38;5;241m0\u001b[39m:\n\u001b[0;32m     62\u001b[0m         \u001b[38;5;28;01mreturn\u001b[39;00m base_prompt\n",
      "\u001b[1;31mTypeError\u001b[0m: 'NoneType' object is not subscriptable"
     ]
    }
   ],
   "source": [
    "import json\n",
    "from solution_generator import SolutionGenerator\n",
    "from problem_parser import load_problem_by_id\n",
    "\n",
    "# Create a SolutionGenerator instance\n",
    "problem_id = 'problem_1'  # Assuming we're testing the matrix inversion problem\n",
    "agents = [('openai', 'gpt-3.5-turbo'), ('anthropic', 'claude-3-5-sonnet-20240620')]  # Example agents\n",
    "sg = SolutionGenerator(problem_id, agents)\n",
    "\n",
    "# Generate solutions using the agents\n",
    "solutions = sg.generate_solutions()\n",
    "\n",
    "print(\"Generated Solutions:\")\n",
    "for i, solution in enumerate(solutions):\n",
    "    print(f\"\\nSolution {i+1}:\")\n",
    "    parsed_solution = json.loads(solution)\n",
    "    print(f\"Imports: {parsed_solution['imports']}\")\n",
    "    print(f\"Code:\\n{parsed_solution['code']}\")\n",
    "    print(f\"Explanation: {parsed_solution['explanation']}\")\n",
    "    print(\"-\" * 50)\n",
    "\n"
   ]
  },
  {
   "cell_type": "code",
   "execution_count": null,
   "metadata": {},
   "outputs": [],
   "source": [
    "# Create a mock solution for testing (you can replace this with actual solutions later)\n",
    "mock_solution = json.dumps({\n",
    "    \"imports\": [\"numpy as np\"],\n",
    "    \"code\": \"\"\"\n",
    "def solution(matrix):\n",
    "    return np.linalg.inv(matrix)\n",
    "    \"\"\",\n",
    "    \"explanation\": \"This solution uses NumPy's linalg.inv function to compute the inverse of the input matrix.\"\n",
    "})\n",
    "\n",
    "\n",
    "# Evaluate the mock solution\n",
    "results = sg.evaluate_solutions([mock_solution])\n",
    "\n",
    "print(results)\n",
    "\n",
    "# # Print the results\n",
    "# for result in results:\n",
    "#     print(\"Solution:\")\n",
    "#     print(result['solution'])\n",
    "#     print(\"\\nPerformance:\")\n",
    "#     print(f\"Runtime: {result['performance']['runtime']:.4f} seconds\")\n",
    "#     print(f\"Accuracy: {result['performance']['accuracy']:.2e}\")\n",
    "#     print(f\"Passed: {result['performance']['passed']}\")\n",
    "#     print(\"\\nKey Ideas:\")\n",
    "#     print(result['key_ideas'])\n",
    "#     print(\"\\n\" + \"=\"*50 + \"\\n\")"
   ]
  },
  {
   "cell_type": "code",
   "execution_count": 5,
   "metadata": {},
   "outputs": [
    {
     "name": "stdout",
     "output_type": "stream",
     "text": [
      "None\n"
     ]
    }
   ],
   "source": []
  },
  {
   "cell_type": "code",
   "execution_count": null,
   "metadata": {},
   "outputs": [],
   "source": []
  }
 ],
 "metadata": {
  "kernelspec": {
   "display_name": "base",
   "language": "python",
   "name": "python3"
  },
  "language_info": {
   "codemirror_mode": {
    "name": "ipython",
    "version": 3
   },
   "file_extension": ".py",
   "mimetype": "text/x-python",
   "name": "python",
   "nbconvert_exporter": "python",
   "pygments_lexer": "ipython3",
   "version": "3.11.7"
  }
 },
 "nbformat": 4,
 "nbformat_minor": 2
}
